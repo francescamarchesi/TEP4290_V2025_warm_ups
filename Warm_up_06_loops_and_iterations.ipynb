{
 "cells": [
  {
   "cell_type": "markdown",
   "metadata": {},
   "source": [
    "# Dynamic Modelling Course - TEP4290: Warm-up 6\n",
    "The point of this exercise is for you to practice what you have learned in the recommended videos and notebook on loops: \n",
    "- https://www.py4e.com/lessons/loops and \n",
    "- https://github.com/jakevdp/WhirlwindTourOfPython/blob/master/10-Iterators.ipynb\n",
    "\n",
    "You will perform some basic operations that are designed to help you to get comforable with loops and iterations in Python. The exercise is pass/fail.\n",
    "\n",
    "Good luck!"
   ]
  },
  {
   "cell_type": "markdown",
   "metadata": {},
   "source": [
    "### Quick summary"
   ]
  },
  {
   "cell_type": "markdown",
   "metadata": {},
   "source": [
    "#### Infinite loops - while loops"
   ]
  },
  {
   "cell_type": "markdown",
   "metadata": {},
   "source": [
    "A while loop is a statement that will execute its body repeatetly as long as its condition is true:\n",
    "the following chunk of code will never stop (try if you want, you can just restart the kernel to stop it)."
   ]
  },
  {
   "cell_type": "code",
   "execution_count": 1,
   "metadata": {},
   "outputs": [],
   "source": [
    "#while True:\n",
    "#    print('Infinite power!')"
   ]
  },
  {
   "cell_type": "markdown",
   "metadata": {},
   "source": [
    "To make productive use of while loops we therefore often use an iteration variable - something that helps to stop it:"
   ]
  },
  {
   "cell_type": "code",
   "execution_count": 2,
   "metadata": {},
   "outputs": [
    {
     "name": "stdout",
     "output_type": "stream",
     "text": [
      "Go shopping!\n",
      "Go shopping!\n",
      "Go shopping!\n",
      "Go shopping!\n",
      "Go shopping!\n",
      "Go to work.\n"
     ]
    }
   ],
   "source": [
    "bank_account = 1000\n",
    "while bank_account >0:\n",
    "    print('Go shopping!')\n",
    "    bank_account -= 200\n",
    "print('Go to work.')"
   ]
  },
  {
   "cell_type": "markdown",
   "metadata": {},
   "source": [
    "Another option is to use the break keyword: "
   ]
  },
  {
   "cell_type": "code",
   "execution_count": 3,
   "metadata": {},
   "outputs": [
    {
     "name": "stdout",
     "output_type": "stream",
     "text": [
      "Go shopping!\n",
      "Go shopping!\n",
      "Go shopping!\n",
      "Go shopping!\n",
      "Go shopping!\n",
      "Go shopping!\n",
      "Go to work.\n"
     ]
    }
   ],
   "source": [
    "bank_account = 1000\n",
    "while True:\n",
    "    print('Go shopping!')\n",
    "    bank_account -= 200\n",
    "    if bank_account <0:\n",
    "        print('Go to work.')\n",
    "        break"
   ]
  },
  {
   "cell_type": "markdown",
   "metadata": {},
   "source": [
    "#### Finite loops:\n",
    "Much more often you will need a finite loop, using a for statetment:"
   ]
  },
  {
   "cell_type": "code",
   "execution_count": 4,
   "metadata": {},
   "outputs": [
    {
     "name": "stdout",
     "output_type": "stream",
     "text": [
      "1\n",
      "2\n",
      "3\n"
     ]
    }
   ],
   "source": [
    "liste = [1,2,3]\n",
    "for element in liste:\n",
    "    print(element)"
   ]
  },
  {
   "cell_type": "markdown",
   "metadata": {},
   "source": [
    "For loops need to iterate over something - there are some nice tricks to this which you will pick up as you go (I recommend to just use google/stackoverflow to check for smart ways of doing what you want to do). \n",
    "\n",
    "A simple example of this can be if you want to have both an element and its index from a list and can use enumerate:"
   ]
  },
  {
   "cell_type": "code",
   "execution_count": 5,
   "metadata": {},
   "outputs": [
    {
     "name": "stdout",
     "output_type": "stream",
     "text": [
      "Superman is on place 0\n",
      "Batman is on place 1\n",
      "Green Lantern is on place 2\n",
      "Aquaman is on place 3\n"
     ]
    }
   ],
   "source": [
    "names = ['Superman', 'Batman', 'Green Lantern', 'Aquaman']\n",
    "for index, name in enumerate(names):\n",
    "    print(name, 'is on place', index)"
   ]
  },
  {
   "cell_type": "markdown",
   "metadata": {},
   "source": [
    "# Tasks\n",
    "Complete the tasks outlined below to achieve the same output as you find in the original file. Use the specific method described if applicable."
   ]
  },
  {
   "cell_type": "markdown",
   "metadata": {},
   "source": [
    "## For loop print:\n",
    "Using a for loop, write a function happy_wishes that prints happy new year for a list of three of your friends. Once you have wished all of them happy new year, print 'Done!'"
   ]
  },
  {
   "cell_type": "code",
   "execution_count": 3,
   "metadata": {},
   "outputs": [
    {
     "name": "stdout",
     "output_type": "stream",
     "text": [
      "Happy New Year: Superman\n",
      "Happy New Year: Batman\n",
      "Happy New Year: Green Lantern\n",
      "Done!\n"
     ]
    }
   ],
   "source": [
    "\n",
    "\n",
    "friends = ['Superman', 'Batman', 'Green Lantern']\n",
    "def happy_wishes(friends_list):\n",
    "    for friend in friends_list:\n",
    "        print('Happy New Year:',friend)\n",
    "    print('Done!')    \n",
    "happy_wishes(friends)"
   ]
  },
  {
   "cell_type": "markdown",
   "metadata": {},
   "source": [
    "## Chessboard\n",
    "A chessboard has rows that go from 1 to 8 and columns that go from A to H. Write a function using a for loop that returns all possibible positions a piece can be at, and puts them into a list."
   ]
  },
  {
   "cell_type": "code",
   "execution_count": 17,
   "metadata": {
    "scrolled": true
   },
   "outputs": [
    {
     "name": "stdout",
     "output_type": "stream",
     "text": [
      "A 1\n",
      "A 2\n",
      "A 3\n",
      "A 4\n",
      "A 5\n",
      "A 6\n",
      "A 7\n",
      "A 8\n",
      "B 1\n",
      "B 2\n",
      "B 3\n",
      "B 4\n",
      "B 5\n",
      "B 6\n",
      "B 7\n",
      "B 8\n",
      "C 1\n",
      "C 2\n",
      "C 3\n",
      "C 4\n",
      "C 5\n",
      "C 6\n",
      "C 7\n",
      "C 8\n",
      "D 1\n",
      "D 2\n",
      "D 3\n",
      "D 4\n",
      "D 5\n",
      "D 6\n",
      "D 7\n",
      "D 8\n",
      "E 1\n",
      "E 2\n",
      "E 3\n",
      "E 4\n",
      "E 5\n",
      "E 6\n",
      "E 7\n",
      "E 8\n",
      "F 1\n",
      "F 2\n",
      "F 3\n",
      "F 4\n",
      "F 5\n",
      "F 6\n",
      "F 7\n",
      "F 8\n",
      "G 1\n",
      "G 2\n",
      "G 3\n",
      "G 4\n",
      "G 5\n",
      "G 6\n",
      "G 7\n",
      "G 8\n",
      "H 1\n",
      "H 2\n",
      "H 3\n",
      "H 4\n",
      "H 5\n",
      "H 6\n",
      "H 7\n",
      "H 8\n",
      "[None, None]\n",
      "None\n"
     ]
    }
   ],
   "source": [
    "### Use this as a starting point\n",
    "columns = ['A','B','C','D','E','F','G','H']\n",
    "rows = range(1,9) # Remember that the range function takes all values in steps of 1 from the initial value given up to,\n",
    "# but including the max value. I.e. in this case the numbers go from 1 to 8\n",
    "chessboard =[] # The method .append() adds an element at the end of the list\n",
    "\n",
    "def make_chessboard(c, r):\n",
    "    for lett in c:\n",
    "        for n in (r):\n",
    "            cell= print(lett,n)\n",
    "            chessboard=[cell]\n",
    "        chessboard.append(cell)\n",
    "    print(chessboard)\n",
    "\n",
    "\n",
    "\n",
    "my_board = make_chessboard(columns, rows)\n",
    "print(my_board)"
   ]
  },
  {
   "cell_type": "markdown",
   "metadata": {},
   "source": [
    "## Finding things\n",
    "Write a function that takes in a list of names and a single name and checks if that name occurs in the list using a for loop.\n",
    "\n",
    "Hint: you can use break or just return (works like break if you want to terminate the entire function. How else could you solve that task?"
   ]
  },
  {
   "cell_type": "code",
   "execution_count": 15,
   "metadata": {},
   "outputs": [
    {
     "name": "stdout",
     "output_type": "stream",
     "text": [
      "True\n"
     ]
    }
   ],
   "source": [
    "def find_name (list, name):\n",
    "    for name_list in list:\n",
    "        if name_list == name:\n",
    "            break\n",
    "        print(True)\n",
    "list_names=['Superman', 'Batman', 'Green Lantern', 'Batman', 'Aquaman', 'Batman']\n",
    "name= 'Batman'\n",
    "find_name(list_names, name)"
   ]
  },
  {
   "cell_type": "code",
   "execution_count": 9,
   "metadata": {},
   "outputs": [
    {
     "data": {
      "text/plain": [
       "True"
      ]
     },
     "execution_count": 9,
     "metadata": {},
     "output_type": "execute_result"
    }
   ],
   "source": []
  },
  {
   "cell_type": "markdown",
   "metadata": {},
   "source": [
    "## Counting things\n",
    "Do the same as before: write a function that takes in a list of names and a single name, but this time return _how often_ the name occurs in the list."
   ]
  },
  {
   "cell_type": "code",
   "execution_count": 22,
   "metadata": {},
   "outputs": [
    {
     "data": {
      "text/plain": [
       "3"
      ]
     },
     "execution_count": 22,
     "metadata": {},
     "output_type": "execute_result"
    }
   ],
   "source": [
    "\n",
    "def count_name (list, name):\n",
    "    count=0\n",
    "    for name_list in list:\n",
    "        if name_list == name:\n",
    "            count=count+1\n",
    "    return count    \n",
    "list_names=['Superman', 'Batman', 'Green Lantern', 'Batman', 'Aquaman', 'Batman']\n",
    "name = 'Batman'\n",
    "count_name(list_names, name)"
   ]
  },
  {
   "cell_type": "markdown",
   "metadata": {},
   "source": [
    "## Fibonacci\n",
    "Can you write a function called fibonacci that takes an integer n as an argument and returns the list of the n first numbers of the fibonacci sequence? Write the funtion and print the result for n=20.\n",
    "\n",
    "A fibonaci sequence starts with two numbers (usually 0 and 1), each entry after that is the sum of the two prior. See also https://en.wikipedia.org/wiki/Fibonacci_number.\n",
    "\n",
    "Hint: There are many solutions to this task - with varying efficiencies you might use for loops, while loops or recursion."
   ]
  },
  {
   "cell_type": "code",
   "execution_count": 24,
   "metadata": {},
   "outputs": [
    {
     "name": "stdout",
     "output_type": "stream",
     "text": [
      "[0, 1, 1, 2, 3, 5, 8, 13, 21, 34, 55, 89, 144, 233, 377, 610, 987, 1597, 2584, 4181, 6765, 10946]\n"
     ]
    }
   ],
   "source": [
    "def fibonacci(n):\n",
    "    \"\"\" \n",
    "    This function takes an integer n as an argument and \n",
    "    returns the list of the n first numbers of the fibonacci list\n",
    "    \"\"\"\n",
    "    a=0\n",
    "    b=1\n",
    "    fib_list=[a,b]\n",
    "    for i in range(n):\n",
    "        new_term = a+b  \n",
    "        fib_list.append(new_term)\n",
    "        a=fib_list[i+1]\n",
    "        b=fib_list[i+2]\n",
    "    return fib_list\n",
    "    \n",
    "\n",
    "\n",
    "    \n",
    "print(fibonnacci(20))"
   ]
  }
 ],
 "metadata": {
  "kernelspec": {
   "display_name": "Python 3",
   "language": "python",
   "name": "python3"
  },
  "language_info": {
   "codemirror_mode": {
    "name": "ipython",
    "version": 3
   },
   "file_extension": ".py",
   "mimetype": "text/x-python",
   "name": "python",
   "nbconvert_exporter": "python",
   "pygments_lexer": "ipython3",
   "version": "3.13.1"
  }
 },
 "nbformat": 4,
 "nbformat_minor": 4
}
